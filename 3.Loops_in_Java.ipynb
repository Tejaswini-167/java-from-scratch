{
 "cells": [
  {
   "cell_type": "markdown",
   "id": "6935ee58-237f-4ea7-93d7-0e4ffc73dec1",
   "metadata": {},
   "source": [
    "# Loops"
   ]
  },
  {
   "cell_type": "markdown",
   "id": "f67fa984-df46-41f6-afe4-3d2699469d87",
   "metadata": {},
   "source": [
    "##### Loops in programming allow a set of instructions to run multiple times based on a condition. In Java, there are three types of Loops\n",
    "* #### for Loop\n",
    "* #### While loop\n",
    "* #### do while loop"
   ]
  },
  {
   "cell_type": "markdown",
   "id": "b2e17c9f-b14b-48bc-8d84-13113a0c5e4f",
   "metadata": {},
   "source": [
    "### for loop\n",
    "##### The for loop is used when we know the number of iterations \n",
    "##### The for statement includes the initialization, condition, and increment/decrement in one line. \n",
    "    "
   ]
  },
  {
   "cell_type": "markdown",
   "id": "dcc19e4d-60a5-4b0f-974a-a5b5efe185fb",
   "metadata": {},
   "source": [
    "#### Syntax:\n",
    "\n",
    "for (initialization; condition; increment/decrement) {\n",
    "\n",
    "    // code to be executed\n",
    "    \n",
    "}"
   ]
  },
  {
   "cell_type": "code",
   "execution_count": 14,
   "id": "a76c129b-f8ab-4e20-9fdc-37e3ebba40fc",
   "metadata": {},
   "outputs": [
    {
     "name": "stdout",
     "output_type": "stream",
     "text": [
      "0 1 2 3 4 5 6 7 8 9 10 "
     ]
    }
   ],
   "source": [
    "// print numbers from 0 to 10\n",
    "for (int i = 0; i <= 10; i++) {\n",
    "            System.out.print(i + \" \");\n",
    "        }"
   ]
  },
  {
   "cell_type": "code",
   "execution_count": 15,
   "id": "25731644-c3e0-4532-9ae5-192426525109",
   "metadata": {},
   "outputs": [
    {
     "name": "stdin",
     "output_type": "stream",
     "text": [
      " 5\n",
      " 2\n",
      " 3\n",
      " 4\n",
      " 5\n",
      " 6\n"
     ]
    },
    {
     "name": "stdout",
     "output_type": "stream",
     "text": [
      "max value is 6"
     ]
    }
   ],
   "source": [
    "// Return Max value (user input) \n",
    "Scanner sc=new Scanner (System.in);\n",
    "int size =sc.nextInt();\n",
    "int max_val = Integer.MIN_VALUE;\n",
    "for(int i =0; i < size; i++){\n",
    "    \n",
    "    int num=sc.nextInt();\n",
    "    if( num> max_val){\n",
    "        max_val=num;\n",
    "            }\n",
    "}\n",
    "System.out.print(\"max value is \"+ max_val);"
   ]
  },
  {
   "cell_type": "code",
   "execution_count": 29,
   "id": "d2dd6873-0e13-4a23-9f87-f40bc585fb11",
   "metadata": {},
   "outputs": [
    {
     "name": "stdout",
     "output_type": "stream",
     "text": [
      "1 2 3 4 5 "
     ]
    }
   ],
   "source": [
    "//Scanner sc=new Scanner(System.in);\n",
    "//Print numbers 1 to N Input: 5 Output: 1 2 3 4 5\n",
    "for (int i=1;i<=5;i++)\n",
    "    System.out.print(i + \" \");"
   ]
  },
  {
   "cell_type": "code",
   "execution_count": 32,
   "id": "01bfc03e-bb60-4d08-9b68-54b4f4eb92dd",
   "metadata": {},
   "outputs": [
    {
     "name": "stdout",
     "output_type": "stream",
     "text": [
      "0 2 4 6 8 10 "
     ]
    }
   ],
   "source": [
    "// Print even numbers from 1 to N Input: 10 Output: 2 4 6 8 10\n",
    "for (int i =0;i <=10;i++)\n",
    "    if ( i%2==0)\n",
    "    System.out.print( i + \" \");"
   ]
  },
  {
   "cell_type": "code",
   "execution_count": 3,
   "id": "1bee9987-bace-4568-8c75-8c48c706ef62",
   "metadata": {},
   "outputs": [
    {
     "name": "stdout",
     "output_type": "stream",
     "text": [
      "15 "
     ]
    }
   ],
   "source": [
    "//Sum of first N numbers Input: 5 Output: 15 (since 1+2+3+4+5 = 15)\n",
    "int sum=0;\n",
    "for (int i=1;i <=5;i++)\n",
    "     sum= sum+i;\n",
    "    System.out.print( sum + \" \");"
   ]
  },
  {
   "cell_type": "code",
   "execution_count": 4,
   "id": "2a5541de-5aa4-4db7-9e64-d4b1b3e12a70",
   "metadata": {},
   "outputs": [
    {
     "name": "stdout",
     "output_type": "stream",
     "text": [
      "5 x 1 =5\n",
      "5 x 2 =10\n",
      "5 x 3 =15\n",
      "5 x 4 =20\n",
      "5 x 5 =25\n",
      "5 x 6 =30\n",
      "5 x 7 =35\n",
      "5 x 8 =40\n",
      "5 x 9 =45\n",
      "5 x 10 =50\n"
     ]
    }
   ],
   "source": [
    "//Print multiplication table of a number Input: 5 Output:\n",
    "int j;\n",
    "for(int i=1; i<=10;i++){\n",
    "     j= 5*i;\n",
    "    System.out.println(\"5 x \"+i+\" =\"+j);\n",
    "}"
   ]
  },
  {
   "cell_type": "code",
   "execution_count": 2,
   "id": "4881e529-a1f9-4489-adab-608a4110c52a",
   "metadata": {},
   "outputs": [
    {
     "name": "stdout",
     "output_type": "stream",
     "text": [
      "1\n",
      "2\n",
      "6\n",
      "24\n",
      "120\n"
     ]
    }
   ],
   "source": [
    "//Find factorial of N Input: 5 Output: 120 (since 5! = 5×4×3×2×1)\n",
    "int factorial=1;\n",
    "int num=5;\n",
    "for (int i=1;i<=num;i++){\n",
    "    factorial=factorial * i;\n",
    "    System.out.println(factorial);\n",
    "}"
   ]
  },
  {
   "cell_type": "code",
   "execution_count": 7,
   "id": "5e7234a2-3cb3-4e08-8b4e-4353e21943f0",
   "metadata": {},
   "outputs": [
    {
     "name": "stdout",
     "output_type": "stream",
     "text": [
      "*\n",
      "**\n",
      "***\n",
      "****\n",
      "*****\n"
     ]
    }
   ],
   "source": [
    "// Print a pattern (basic triangle) Input: 5 Output:\n",
    "int n=5;\n",
    "for(int i=1; i<=n;i++){\n",
    "    for(int j=1; j<=i;j++){\n",
    "        System.out.print(\"*\");\n",
    "    }\n",
    "    System.out.println();\n",
    "}"
   ]
  },
  {
   "cell_type": "markdown",
   "id": "ebcbd9c2-0040-42dd-9f70-12314cbf956c",
   "metadata": {},
   "source": [
    "### While loop\n",
    "##### A while loop is used when we want to check the condition before executing the loop body.\n",
    "#### Syntax:\n",
    "\n",
    "while (condition) {\n",
    "\n",
    "    // code to be executed\n",
    "\n",
    "}"
   ]
  },
  {
   "cell_type": "code",
   "execution_count": 12,
   "id": "bc53aeaa-4441-4f9b-9931-6e9e29a85fb3",
   "metadata": {},
   "outputs": [
    {
     "name": "stdout",
     "output_type": "stream",
     "text": [
      "1 2 3 4 5 6 7 8 9 10 "
     ]
    }
   ],
   "source": [
    "// print numbers from 1 to 10\n",
    "int i=1;\n",
    "\n",
    "while(i<=10){\n",
    "    System.out.print(i + \" \");\n",
    "    i++;\n",
    "}"
   ]
  },
  {
   "cell_type": "code",
   "execution_count": 13,
   "id": "b4a5c6ff-3562-4ec3-941c-e18b08bf3189",
   "metadata": {},
   "outputs": [
    {
     "name": "stdout",
     "output_type": "stream",
     "text": [
      "5\n"
     ]
    }
   ],
   "source": [
    "//Count digits of a number Input: 12345  Output: 5\n",
    "int num=12345;\n",
    "int count=0;\n",
    "while(num>0){\n",
    "    \n",
    "     num = num / 10;  \n",
    "    count++;   \n",
    "}\n",
    "System.out.println(count);"
   ]
  },
  {
   "cell_type": "code",
   "execution_count": 17,
   "id": "3397889a-f5f8-46dd-8b7c-78ae58ccd6ff",
   "metadata": {},
   "outputs": [
    {
     "name": "stdout",
     "output_type": "stream",
     "text": [
      "4321\n"
     ]
    }
   ],
   "source": [
    "//Reverse a number Input: 1234 Output: 4321\n",
    "int num = 1234;\n",
    "int rev = 0;\n",
    "\n",
    "while (num > 0) {\n",
    "    int digit = num % 10;\n",
    "    rev = rev * 10 + digit; \n",
    "    num = num / 10;         \n",
    "}\n",
    "\n",
    "System.out.println(rev); \n"
   ]
  },
  {
   "cell_type": "code",
   "execution_count": 21,
   "id": "6001f5cd-c880-451e-883b-a1c10c03b025",
   "metadata": {},
   "outputs": [
    {
     "name": "stdout",
     "output_type": "stream",
     "text": [
      "Enter numbers (0 to stop):\n"
     ]
    },
    {
     "name": "stdin",
     "output_type": "stream",
     "text": [
      " 5\n",
      " 3\n",
      " 7\n",
      " 8\n",
      " 4\n",
      " 2\n",
      " 0\n"
     ]
    },
    {
     "name": "stdout",
     "output_type": "stream",
     "text": [
      "Sum = 29\n"
     ]
    }
   ],
   "source": [
    "//Sum of numbers until user enters 0\n",
    "Scanner sc = new Scanner(System.in);\n",
    "int num, sum = 0;\n",
    "\n",
    "System.out.println(\"Enter numbers (0 to stop):\");\n",
    "num = sc.nextInt();\n",
    "\n",
    "while (num != 0) {\n",
    "    sum += num;\n",
    "    num = sc.nextInt();\n",
    "}\n",
    "\n",
    "System.out.println(\"Sum = \" + sum);\n"
   ]
  },
  {
   "cell_type": "markdown",
   "id": "15a7a48f-17d9-45e4-98ee-eaee22dfe925",
   "metadata": {},
   "source": [
    "### do-while Loop\n",
    "##### The do-while loop ensures that the code block executes at least once before checking the condition.\n",
    "#### Syntax:\n",
    "\n",
    "do {\n",
    "\n",
    "    // code to be executed\n",
    "\n",
    "} while (condition);\n",
    "\n"
   ]
  },
  {
   "cell_type": "code",
   "execution_count": 11,
   "id": "c574cb71-90d5-4570-a8c7-a5117730f28d",
   "metadata": {},
   "outputs": [
    {
     "name": "stdout",
     "output_type": "stream",
     "text": [
      "0 1 2 3 4 5 6 7 8 9 10 "
     ]
    }
   ],
   "source": [
    " int i = 0;\n",
    "        do {\n",
    "            System.out.print(i + \" \");\n",
    "            i++;\n",
    "        } while (i <= 10);"
   ]
  },
  {
   "cell_type": "code",
   "execution_count": 22,
   "id": "b289a529-0f56-4dff-8f9c-b4dcedd58eb4",
   "metadata": {},
   "outputs": [
    {
     "name": "stdout",
     "output_type": "stream",
     "text": [
      "Enter a positive number:\n"
     ]
    },
    {
     "name": "stdin",
     "output_type": "stream",
     "text": [
      " 5\n"
     ]
    },
    {
     "name": "stdout",
     "output_type": "stream",
     "text": [
      "You entered: 5\n"
     ]
    }
   ],
   "source": [
    "// Ask user for a number until it’s positive\n",
    "Scanner sc = new Scanner(System.in);\n",
    "int num;\n",
    "\n",
    "do {\n",
    "    System.out.println(\"Enter a positive number:\");\n",
    "    num = sc.nextInt();\n",
    "} while (num <= 0);\n",
    "\n",
    "System.out.println(\"You entered: \" + num);\n"
   ]
  },
  {
   "cell_type": "code",
   "execution_count": null,
   "id": "52e15bb8-d93a-4a6e-be66-ad0c0416c36c",
   "metadata": {},
   "outputs": [],
   "source": []
  },
  {
   "cell_type": "code",
   "execution_count": null,
   "id": "abd47269-2dda-4a9b-acac-bd876df52aa0",
   "metadata": {},
   "outputs": [],
   "source": []
  },
  {
   "cell_type": "code",
   "execution_count": null,
   "id": "898833d3-44b3-4b48-ad39-b4c505e00e05",
   "metadata": {},
   "outputs": [],
   "source": []
  }
 ],
 "metadata": {
  "kernelspec": {
   "display_name": "Java",
   "language": "java",
   "name": "java"
  },
  "language_info": {
   "codemirror_mode": "java",
   "file_extension": ".jshell",
   "mimetype": "text/x-java-source",
   "name": "Java",
   "pygments_lexer": "java",
   "version": "17.0.12+7"
  }
 },
 "nbformat": 4,
 "nbformat_minor": 5
}
