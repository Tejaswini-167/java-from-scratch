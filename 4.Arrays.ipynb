{
 "cells": [
  {
   "cell_type": "markdown",
   "id": "2c051e0c-576d-45bb-a9c4-7b3306adf8cd",
   "metadata": {},
   "source": [
    "# ARRYAS\n",
    "\n",
    "### An Array is an important linear data structure that allows us to store multiple values of the same type."
   ]
  },
  {
   "cell_type": "markdown",
   "id": "90af7f1b-ad53-4605-b226-34f3046ac195",
   "metadata": {},
   "source": [
    "### Key features of Arrays\n",
    "* Store Primitives and Objects: Java arrays can hold both primitive types (like int, char, boolean, etc.) and objects (like String, Integer, etc.)\n",
    "* Contiguous Memory Allocation When we use arrays of primitive types, the elements are stored in contiguous locations. For non primitive types, references of items are stored at contiguous locations.\n",
    "* Zero-based Indexing: The first element of the array is at index 0.\n",
    "* Fixed Length: After creating an array, its size is fixed; we can not change it.\n"
   ]
  },
  {
   "cell_type": "markdown",
   "id": "232a9d46-12c3-41be-bb42-d22bfedc7278",
   "metadata": {},
   "source": [
    "##### Declaring an Array\n"
   ]
  },
  {
   "cell_type": "code",
   "execution_count": null,
   "id": "77382767-b7b9-43ed-a416-bf8bc1b66c00",
   "metadata": {},
   "outputs": [],
   "source": [
    " // Method 1:\n",
    "\n",
    "int arr[];\n",
    "\n",
    " // Method 2:\n",
    "  \n",
    "int[] arr;"
   ]
  },
  {
   "cell_type": "markdown",
   "id": "ec52483d-89a2-4fb6-a3f7-ec4db565fb30",
   "metadata": {},
   "source": [
    "##### Initialization an Array in Java"
   ]
  },
  {
   "cell_type": "code",
   "execution_count": 8,
   "id": "fda706d2-c0b8-4cef-9750-e8d079164a2b",
   "metadata": {},
   "outputs": [],
   "source": [
    "// int arr[] = new int[size];"
   ]
  },
  {
   "cell_type": "code",
   "execution_count": 6,
   "id": "4fffb902-c38c-4790-a78f-db642ce65c14",
   "metadata": {},
   "outputs": [
    {
     "name": "stdout",
     "output_type": "stream",
     "text": [
      "1\n"
     ]
    }
   ],
   "source": [
    "int[] arr1=new int[6];\n",
    "arr1[0]=1;\n",
    "System.out.println(arr1[0]);"
   ]
  },
  {
   "cell_type": "code",
   "execution_count": 9,
   "id": "df311aee-ec4a-47eb-9b96-d466ae84a1e9",
   "metadata": {},
   "outputs": [],
   "source": [
    " // Declaring array literal  \n",
    "// int[] arr = new int[]{ 1,2,3,4,5,6,7,8,9,10 }; "
   ]
  },
  {
   "cell_type": "code",
   "execution_count": 1,
   "id": "e6b70cf3-bd86-4381-9b55-e9e48325a9dc",
   "metadata": {},
   "outputs": [
    {
     "name": "stdout",
     "output_type": "stream",
     "text": [
      "10\n"
     ]
    }
   ],
   "source": [
    "int[] arr= {10,3,22,45,9,65,25};\n",
    "System.out.println(arr[0]);"
   ]
  },
  {
   "cell_type": "markdown",
   "id": "9d0854da-ca5e-4760-9d77-dfc1f6ae210d",
   "metadata": {},
   "source": [
    "### Array input from user"
   ]
  },
  {
   "cell_type": "code",
   "execution_count": 1,
   "id": "f4bdd213-bd35-4a2a-a562-d1868cefafea",
   "metadata": {},
   "outputs": [
    {
     "name": "stdin",
     "output_type": "stream",
     "text": [
      " 2\n",
      " 34\n",
      " 66\n",
      " 22\n",
      " 87\n"
     ]
    },
    {
     "name": "stdout",
     "output_type": "stream",
     "text": [
      "Array at index 0 = 2\n",
      "Array at index 1 = 34\n",
      "Array at index 2 = 66\n",
      "Array at index 3 = 22\n",
      "Array at index 4 = 87\n"
     ]
    }
   ],
   "source": [
    "Scanner sc=new Scanner(System.in);\n",
    "int arr[]=new int[5];\n",
    " arr[0]=sc.nextInt();\n",
    " arr[1]=sc.nextInt();\n",
    " arr[2]=sc.nextInt();\n",
    " arr[3]=sc.nextInt();\n",
    " arr[4]=sc.nextInt();\n",
    "\n",
    "for (int i=0;i<arr.length;i++)\n",
    "    System.out.println(\"Array at index \" + i+ \" = \" + arr[i]);\n",
    "\n",
    "// for smaller size of array this way is okay but not efficient for larger size\n"
   ]
  },
  {
   "cell_type": "code",
   "execution_count": 10,
   "id": "461a5444-968e-493b-82b6-e2d6e50b4321",
   "metadata": {},
   "outputs": [
    {
     "name": "stdout",
     "output_type": "stream",
     "text": [
      "Element at index 0 : 2\n",
      "Element at index 1 : 4\n",
      "Element at index 2 : 8\n",
      "Element at index 3 : 12\n",
      "Element at index 4 : 16\n"
     ]
    }
   ],
   "source": [
    "       int[] arr= new int[5];\n",
    "        // initialize the elements of the array\n",
    "      \tarr[0] = 2;\n",
    "\t\tarr[1] = 4;\n",
    "        arr[2] = 8;\n",
    "        arr[3] = 12;\n",
    "        arr[4] = 16;\n",
    "        // accessing the elements of the specified array\n",
    "        for (int i = 0; i < arr.length; i++)\n",
    "            System.out.println(\"Element at index \" + i + \" : \" + arr[i]);"
   ]
  },
  {
   "cell_type": "code",
   "execution_count": 13,
   "id": "b3110c9e-1ded-46f3-a1ff-5a98f7ea19e9",
   "metadata": {},
   "outputs": [
    {
     "name": "stdin",
     "output_type": "stream",
     "text": [
      " 4\n",
      " 33\n",
      " 55\n",
      " 66\n",
      " 77\n"
     ]
    },
    {
     "name": "stdout",
     "output_type": "stream",
     "text": [
      "the value at index 0 is 33\n",
      "the value at index 1 is 55\n",
      "the value at index 2 is 66\n",
      "the value at index 3 is 77\n"
     ]
    }
   ],
   "source": [
    "// for larger size of array\n",
    "Scanner sc=new Scanner(System.in);\n",
    "int n=sc.nextInt();\n",
    "int arr[]=new int[n];\n",
    "for (int i=0;i<arr.length;i++){\n",
    "    arr[i]=sc.nextInt();\n",
    "}\n",
    "for (int i=0;i<arr.length;i++){\n",
    "System.out.println(\"the value at index \"+ i +\" is \"+ arr[i]);\n",
    "}"
   ]
  },
  {
   "cell_type": "code",
   "execution_count": 43,
   "id": "6a098a0a-39f0-463f-b859-cbd7ad249888",
   "metadata": {},
   "outputs": [
    {
     "name": "stdout",
     "output_type": "stream",
     "text": [
      "Enter the size of the array\n"
     ]
    },
    {
     "name": "stdin",
     "output_type": "stream",
     "text": [
      " 5\n"
     ]
    },
    {
     "name": "stdout",
     "output_type": "stream",
     "text": [
      "enter the elements in array\n"
     ]
    },
    {
     "name": "stdin",
     "output_type": "stream",
     "text": [
      " 11 22 33 44 55\n"
     ]
    },
    {
     "name": "stdout",
     "output_type": "stream",
     "text": [
      "enter the key\n"
     ]
    },
    {
     "name": "stdin",
     "output_type": "stream",
     "text": [
      " 22\n"
     ]
    },
    {
     "name": "stdout",
     "output_type": "stream",
     "text": [
      "the key is is present at index 1\n"
     ]
    }
   ],
   "source": [
    "// LINEAR SEARCH\n",
    "// given an array and a key value as input , fing the index of key in array,return -1 if not present\n",
    "\n",
    "Scanner sc=new Scanner(System.in);\n",
    "System.out.println(\"Enter the size of the array\");\n",
    "int size=sc.nextInt();\n",
    "\n",
    "System.out.println(\"enter the elements in array\");\n",
    "int arr[]=new int[size];\n",
    "for (int i=0;i<arr.length;i++){\n",
    "    arr[i]=sc.nextInt(); \n",
    "}\n",
    "System.out.println(\"enter the key\");\n",
    "int key=sc.nextInt();\n",
    "boolean found=false;\n",
    "for (int i=0;i<size;i++){\n",
    " if(key==arr[i]){\n",
    "        System.out.println(\"the key is is present at index \"+ i);\n",
    "        found=true;\n",
    "        break;\n",
    " }\n",
    " }\n",
    " if (!found) {\n",
    "        System.out.println(-1);\n",
    "        }"
   ]
  },
  {
   "cell_type": "markdown",
   "id": "35460687-345c-4aaf-843c-f322ab88f579",
   "metadata": {},
   "source": [
    "## for each loop\n",
    "#### The \"for-each\" loop in Java, also known as the enhanced for loop, provides a simplified way to iterate over elements in arrays and collections"
   ]
  },
  {
   "cell_type": "markdown",
   "id": "0ef6b43e-5a96-4914-a8b7-c1bcb26c4b51",
   "metadata": {},
   "source": [
    "#### Syntax of For-each Loop\n",
    "for (type var : array) {\n",
    "\n",
    "    statements using var;\n",
    "\n",
    "}"
   ]
  },
  {
   "cell_type": "markdown",
   "id": "38ec743c-c85e-4cfe-ab0c-286cdc3616c8",
   "metadata": {},
   "source": [
    "#### Use for-each loop when:\n",
    "\n",
    "- There is no need to access the index of the elements\n",
    "- Code readability is a priority.\n",
    "- When to Avoid For-Each Loop?\n",
    "\n",
    "#### Avoid using for-each loop when:\n",
    "\n",
    "- You need to access element by their index.\n",
    "- Perform reverse iteration.\n",
    "- Directly want to modify element in primitive arrays."
   ]
  },
  {
   "cell_type": "code",
   "execution_count": 46,
   "id": "83d60775-e30d-4f1c-875a-b01b784b56b8",
   "metadata": {},
   "outputs": [
    {
     "name": "stdout",
     "output_type": "stream",
     "text": [
      "4 5 3 6 7 "
     ]
    }
   ],
   "source": [
    "int arr[]={4,5,3,6,7};\n",
    "for(int num:arr){\n",
    "    System.out.print(num+ \" \");\n",
    "}"
   ]
  },
  {
   "cell_type": "code",
   "execution_count": 66,
   "id": "0961890a-1338-4262-aed4-5e4f78f384cc",
   "metadata": {},
   "outputs": [
    {
     "name": "stdout",
     "output_type": "stream",
     "text": [
      "Enter the size of the array\n"
     ]
    },
    {
     "name": "stdin",
     "output_type": "stream",
     "text": [
      " 5\n"
     ]
    },
    {
     "name": "stdout",
     "output_type": "stream",
     "text": [
      "Enter the elenemts int the array\n"
     ]
    },
    {
     "name": "stdin",
     "output_type": "stream",
     "text": [
      " 11 22 33 44 55\n"
     ]
    },
    {
     "name": "stdout",
     "output_type": "stream",
     "text": [
      "Enter the key\n"
     ]
    },
    {
     "name": "stdin",
     "output_type": "stream",
     "text": [
      " 33\n"
     ]
    },
    {
     "name": "stdout",
     "output_type": "stream",
     "text": [
      "found\n"
     ]
    }
   ],
   "source": [
    " // linear search using for each loop\n",
    "\n",
    "Scanner sc=new Scanner(System.in);\n",
    "\n",
    "System.out.println(\"Enter the size of the array\");\n",
    "int size=sc.nextInt();\n",
    "int arr[]= new int[size];\n",
    "\n",
    "System.out.println(\"Enter the elenemts int the array\");\n",
    " for (int i = 0; i < size; i++) {\n",
    "            arr[i] = sc.nextInt();\n",
    "        }\n",
    "System.out.println(\"Enter the key\");\n",
    "    int key=sc.nextInt(); \n",
    "\n",
    "boolean found=false;\n",
    "for(int num:arr){\n",
    "    if(num==key){\n",
    "        found=true;\n",
    "        break;\n",
    "        }\n",
    "}\n",
    "if(found){\n",
    "    System.out.println(\"found\");\n",
    "}\n",
    "else{\n",
    "    System.out.println(\"not found\");\n",
    "}"
   ]
  },
  {
   "cell_type": "code",
   "execution_count": 71,
   "id": "3dd83402-6bad-4dba-a2e0-e686281304ff",
   "metadata": {},
   "outputs": [
    {
     "name": "stdout",
     "output_type": "stream",
     "text": [
      "enter the integer N\n"
     ]
    },
    {
     "name": "stdin",
     "output_type": "stream",
     "text": [
      " 5\n"
     ]
    },
    {
     "name": "stdout",
     "output_type": "stream",
     "text": [
      "1 4 9 16 25 "
     ]
    }
   ],
   "source": [
    "// given an integer N, generate and print an array containing squares of all numbers from 1 to N\n",
    "Scanner sc=new Scanner(System.in);\n",
    "System.out.println(\"enter the integer N\");\n",
    "int N=sc.nextInt();\n",
    "for (int i=1;i<=N;i++){\n",
    "    System.out.print(i*i + \" \");\n",
    "}"
   ]
  },
  {
   "cell_type": "code",
   "execution_count": 5,
   "id": "38eeb7fa-5e84-4758-b6fb-66188484d5e5",
   "metadata": {},
   "outputs": [
    {
     "name": "stdout",
     "output_type": "stream",
     "text": [
      "enter the size of array\n"
     ]
    },
    {
     "name": "stdin",
     "output_type": "stream",
     "text": [
      " 5\n"
     ]
    },
    {
     "name": "stdout",
     "output_type": "stream",
     "text": [
      "enter the elements in an array\n"
     ]
    },
    {
     "name": "stdin",
     "output_type": "stream",
     "text": [
      " 1 2 3 4 5\n"
     ]
    },
    {
     "name": "stdout",
     "output_type": "stream",
     "text": [
      "Maximum: 5\n",
      "Minimum: 1\n"
     ]
    }
   ],
   "source": [
    "// Given a array find the maximun and minimum in it\n",
    "Scanner sc=new Scanner(System.in);\n",
    "System.out.println(\"enter the size of array\");\n",
    "int size=sc.nextInt();\n",
    "System.out.println(\"enter the elements in an array\");\n",
    "int arr[]=new int[size];\n",
    "for(int i=0;i<arr.length;i++){\n",
    "    arr[i]=sc.nextInt();\n",
    "}\n",
    "int max = arr[0]; // start with first element\n",
    "int min = arr[0];\n",
    "\n",
    "for (int i = 1; i < arr.length; i++) {\n",
    "    if (arr[i] > max) {\n",
    "        max = arr[i];\n",
    "    }\n",
    "    if (arr[i] < min) {\n",
    "        min = arr[i];\n",
    "    }\n",
    "}\n",
    "\n",
    "System.out.println(\"Maximum: \" + max);\n",
    "System.out.println(\"Minimum: \" + min);\n"
   ]
  },
  {
   "cell_type": "code",
   "execution_count": 94,
   "id": "68c14981-0509-40f4-b7a0-bbc088c37ca6",
   "metadata": {},
   "outputs": [
    {
     "name": "stdout",
     "output_type": "stream",
     "text": [
      "enter the size of array\n"
     ]
    },
    {
     "name": "stdin",
     "output_type": "stream",
     "text": [
      " 5\n"
     ]
    },
    {
     "name": "stdout",
     "output_type": "stream",
     "text": [
      "enter the elements in an array\n"
     ]
    },
    {
     "name": "stdin",
     "output_type": "stream",
     "text": [
      " 11\n",
      " 22\n",
      " 33\n",
      " 44\n",
      " 55\n"
     ]
    },
    {
     "name": "stdout",
     "output_type": "stream",
     "text": [
      "Reversed array:\n",
      "55 44 33 22 11 "
     ]
    }
   ],
   "source": [
    "// given an array generate a new array which is reverse of it\n",
    "Scanner sc=new Scanner(System.in);\n",
    "System.out.println(\"enter the size of array\");\n",
    "int size=sc.nextInt();\n",
    "System.out.println(\"enter the elements in an array\");\n",
    "int arr[]=new int[size];\n",
    "\n",
    "int rev[] =new int[size];\n",
    "for(int i=0;i<size;i++){\n",
    "    rev[i]=arr[size-1-i];\n",
    "}\n",
    "System.out.println(\"Reversed array:\");\n",
    "for(int i=0;i<arr.length;i++){\n",
    "    System.out.print(rev[i] + \" \");\n",
    "}"
   ]
  },
  {
   "cell_type": "code",
   "execution_count": 6,
   "id": "af2f252c-4781-44e6-8005-6e35a3136175",
   "metadata": {},
   "outputs": [
    {
     "name": "stdout",
     "output_type": "stream",
     "text": [
      "Enter the size of array 1\n"
     ]
    },
    {
     "name": "stdin",
     "output_type": "stream",
     "text": [
      " 5\n"
     ]
    },
    {
     "name": "stdout",
     "output_type": "stream",
     "text": [
      "Enter the elements in array 1\n"
     ]
    },
    {
     "name": "stdin",
     "output_type": "stream",
     "text": [
      " 11 22 33 44 55\n"
     ]
    },
    {
     "name": "stdout",
     "output_type": "stream",
     "text": [
      "Enter the size of array 2\n"
     ]
    },
    {
     "name": "stdin",
     "output_type": "stream",
     "text": [
      " 4 \n"
     ]
    },
    {
     "name": "stdout",
     "output_type": "stream",
     "text": [
      "Enter the elements in array 2\n"
     ]
    },
    {
     "name": "stdin",
     "output_type": "stream",
     "text": [
      " 33 6 88 1 32\n"
     ]
    },
    {
     "name": "stdout",
     "output_type": "stream",
     "text": [
      "Common elements:\n",
      "33 "
     ]
    }
   ],
   "source": [
    "\n",
    "        Scanner sc = new Scanner(System.in);\n",
    "\n",
    "        // First array\n",
    "        System.out.println(\"Enter the size of array 1\");\n",
    "        int size1 = sc.nextInt();\n",
    "        int arr1[] = new int[size1];\n",
    "        System.out.println(\"Enter the elements in array 1\");\n",
    "        for (int i = 0; i < size1; i++) {\n",
    "            arr1[i] = sc.nextInt();\n",
    "        }\n",
    "        // Second array\n",
    "        System.out.println(\"Enter the size of array 2\");\n",
    "        int size2 = sc.nextInt();\n",
    "        int arr2[] = new int[size2];\n",
    "        System.out.println(\"Enter the elements in array 2\");\n",
    "        for (int i = 0; i < size2; i++) {\n",
    "            arr2[i] = sc.nextInt();\n",
    "        }\n",
    "\n",
    "        // Third array for common elements\n",
    "        int arr3[] = new int[Math.min(size1, size2)];\n",
    "        int k = 0;  // index for arr3\n",
    "\n",
    "        for (int i = 0; i < size1; i++) {\n",
    "            for (int j = 0; j < size2; j++) {\n",
    "                if (arr1[i] == arr2[j]) {\n",
    "                    arr3[k++] = arr1[i];\n",
    "                    break; // avoid duplicate counting of the same element\n",
    "                }\n",
    "            }\n",
    "        }\n",
    "\n",
    "        // Print arr3\n",
    "        if (k == 0) {\n",
    "            System.out.println(\"No common elements\");\n",
    "        } else {\n",
    "            System.out.println(\"Common elements:\");\n",
    "            for (int i = 0; i < k; i++) {\n",
    "                System.out.print(arr3[i] + \" \");\n",
    "            }\n",
    "        }\n"
   ]
  },
  {
   "cell_type": "code",
   "execution_count": null,
   "id": "1675e78d-c448-41cb-a869-7d681f044869",
   "metadata": {},
   "outputs": [],
   "source": []
  }
 ],
 "metadata": {
  "kernelspec": {
   "display_name": "Java",
   "language": "java",
   "name": "java"
  },
  "language_info": {
   "codemirror_mode": "java",
   "file_extension": ".jshell",
   "mimetype": "text/x-java-source",
   "name": "Java",
   "pygments_lexer": "java",
   "version": "17.0.12+7"
  }
 },
 "nbformat": 4,
 "nbformat_minor": 5
}
