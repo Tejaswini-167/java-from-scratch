{
 "cells": [
  {
   "cell_type": "markdown",
   "id": "1b6f34c7-4610-4c88-bb12-a023f5334254",
   "metadata": {},
   "source": [
    "# Strings\n",
    "#### A String is the type of object that can store a sequence of characters enclosed by double quotes and every character is stored in 16 bits"
   ]
  },
  {
   "cell_type": "code",
   "execution_count": 7,
   "id": "4c2e2c6e-2532-4a5d-bca9-8eccf297f34d",
   "metadata": {},
   "outputs": [
    {
     "name": "stdout",
     "output_type": "stream",
     "text": [
      "hello\n",
      "5\n",
      "e\n",
      "o\n"
     ]
    }
   ],
   "source": [
    "String s =\"hello\";\n",
    "System.out.println(s);\n",
    "System.out.println(s.length());\n",
    "System.out.println(s.charAt(1));\n",
    "System.out.println(s.charAt(4));"
   ]
  },
  {
   "cell_type": "markdown",
   "id": "e0041c59-46fb-4dea-b1f6-d79fab381e10",
   "metadata": {},
   "source": [
    "### String Pool\n",
    "#### the string pool is a area in the heap memory where string literals are stored"
   ]
  },
  {
   "cell_type": "markdown",
   "id": "3bab25a4-8f6d-45d2-9f8b-d88df2b318d2",
   "metadata": {},
   "source": [
    "### String using new \n",
    "* we can create new strings using the new keyword. these strings do not reside in the string pool,instead they are created and stored in the hea memory"
   ]
  },
  {
   "cell_type": "code",
   "execution_count": 10,
   "id": "2d19eda7-a614-48ad-b9db-c81475c9cdab",
   "metadata": {},
   "outputs": [
    {
     "name": "stdout",
     "output_type": "stream",
     "text": [
      "equal\n"
     ]
    }
   ],
   "source": [
    "String s1=\"abc\";\n",
    "String s2=\"abc\";\n",
    "if(s1==s2){\n",
    "    System.out.println(\"equal\");\n",
    "}\n",
    "else{\n",
    "    System.out.println(\"not equal\");\n",
    "}"
   ]
  },
  {
   "cell_type": "code",
   "execution_count": 12,
   "id": "b0a1c976-1505-4520-885f-c87e28983588",
   "metadata": {},
   "outputs": [
    {
     "name": "stdout",
     "output_type": "stream",
     "text": [
      "equal\n"
     ]
    }
   ],
   "source": [
    "String s1=\"abc\";\n",
    "String s2=new String(\"abc\"); // whn we use new key word to create a string\n",
    "\n",
    "if(s1==s2){ // == checks the objects is they are same \n",
    "    // to check if the sting value is same or not\n",
    "// if(s1.equals(s2)){   equals checks the context\n",
    "    System.out.println(\"equal\");\n",
    "}\n",
    "else{\n",
    "    System.out.println(\"not equal\");\n",
    "}"
   ]
  },
  {
   "cell_type": "markdown",
   "id": "18d065ae-ccc4-4a15-8041-7a2ce65b9c8c",
   "metadata": {},
   "source": [
    "## STRING METHODS"
   ]
  },
  {
   "cell_type": "markdown",
   "id": "21de03e6-0c89-4f8f-8d63-7835f7f5b6d9",
   "metadata": {},
   "source": [
    "### charAt\n",
    "* charAt method allows us to access the character at a specified index"
   ]
  },
  {
   "cell_type": "code",
   "execution_count": 1,
   "id": "c7e5cefb-27dc-43a3-b22c-473c6afa1c63",
   "metadata": {},
   "outputs": [
    {
     "name": "stdout",
     "output_type": "stream",
     "text": [
      "l\n",
      "r\n"
     ]
    }
   ],
   "source": [
    "String s=\"Hello World\";\n",
    "System.out.println(s.charAt(3));\n",
    "System.out.println(s.charAt(8));"
   ]
  },
  {
   "cell_type": "markdown",
   "id": "12f08282-65d0-4f6c-889a-375555942ac0",
   "metadata": {},
   "source": [
    "### length\n",
    "* the length() method returns the length of string"
   ]
  },
  {
   "cell_type": "code",
   "execution_count": 2,
   "id": "9e854273-f867-44fa-819e-cbd09cb5fb38",
   "metadata": {},
   "outputs": [
    {
     "name": "stdout",
     "output_type": "stream",
     "text": [
      "3\n",
      "5\n"
     ]
    }
   ],
   "source": [
    "String s1=\"abc\";\n",
    "System.out.println(s1.length());\n",
    "String s2=\"Hello\";\n",
    "System.out.println(s2.length());"
   ]
  },
  {
   "cell_type": "markdown",
   "id": "5bc29e40-ba7e-4340-b4c8-ca499addc4ac",
   "metadata": {},
   "source": [
    "### indexOf\n",
    "* returns the index of the 1st occurance of the specified char or string in a given string. returns -1 if not present"
   ]
  },
  {
   "cell_type": "code",
   "execution_count": 10,
   "id": "52a9d4c7-80f0-463e-9b5d-105146904349",
   "metadata": {},
   "outputs": [
    {
     "name": "stdout",
     "output_type": "stream",
     "text": [
      "6\n",
      "2\n",
      "4\n",
      "10\n",
      "-1\n"
     ]
    }
   ],
   "source": [
    "String str=\"Hello World\";\n",
    "System.out.println(str.indexOf('W'));\n",
    "System.out.println(str.indexOf(\"ll\"));\n",
    "System.out.println(str.indexOf('o'));\n",
    "System.out.println(str.indexOf('d'));\n",
    "System.out.println(str.indexOf('w'));// returns -1"
   ]
  },
  {
   "cell_type": "markdown",
   "id": "979a9dab-a8fa-45b7-8bdb-eedba667fdc5",
   "metadata": {},
   "source": [
    "### equals\n",
    "* it is used to compare whether two strings contains the same sequence of characters or not"
   ]
  },
  {
   "cell_type": "code",
   "execution_count": 12,
   "id": "bcddeb25-0ec0-40d9-8ed0-b873f1232663",
   "metadata": {},
   "outputs": [
    {
     "name": "stdout",
     "output_type": "stream",
     "text": [
      "true\n",
      "false\n"
     ]
    }
   ],
   "source": [
    "String str=\"Hello World\";\n",
    "String str1=new String(\"Hello World\");\n",
    "System.out.println(str.equals(str1)); // checks the content of string\n",
    "System.out.println(str == str1);  // == checks if the objects is they are same "
   ]
  },
  {
   "cell_type": "markdown",
   "id": "0d3a3286-b6e9-438a-ba7b-ba4105cdc65d",
   "metadata": {},
   "source": [
    "### contains\n",
    "* returns true if and only if this string contains the specified sequence of char values"
   ]
  },
  {
   "cell_type": "code",
   "execution_count": 14,
   "id": "966827a0-9c48-4c8f-aec5-bd0702ee7493",
   "metadata": {},
   "outputs": [
    {
     "name": "stdout",
     "output_type": "stream",
     "text": [
      "true\n",
      "false\n"
     ]
    }
   ],
   "source": [
    "String str=\"Hello World\";\n",
    "System.out.println(str.contains(\"ll\")); \n",
    "System.out.println(str.contains(\"abc\"));// abc is not present in str"
   ]
  },
  {
   "cell_type": "markdown",
   "id": "dda7223c-0cd9-415e-9438-f7d8085b4f99",
   "metadata": {},
   "source": [
    "## toLowerCase, toUpperCase\n",
    "* returns new strings after changing the case. Original String remain incact"
   ]
  },
  {
   "cell_type": "code",
   "execution_count": 18,
   "id": "10950037-6ce8-4e08-a722-8cd70cc96fe0",
   "metadata": {},
   "outputs": [
    {
     "name": "stdout",
     "output_type": "stream",
     "text": [
      "hello world\n",
      "HELLO WORLD\n",
      "Hello World\n"
     ]
    }
   ],
   "source": [
    "String str=\"Hello World\";\n",
    "System.out.println(str.toLowerCase());\n",
    "System.out.println(str.toUpperCase());\n",
    "System.out.println(str);"
   ]
  },
  {
   "cell_type": "markdown",
   "id": "c2a5dc7c-a402-4db8-8bc7-a0f3f34a05da",
   "metadata": {},
   "source": [
    "### replace\n",
    "* Replaces the target string (1st) with the given replacement string (2nd) and returns a new string"
   ]
  },
  {
   "cell_type": "code",
   "execution_count": 22,
   "id": "77562c8a-cb6e-4823-bec9-b57a99187bca",
   "metadata": {},
   "outputs": [
    {
     "name": "stdout",
     "output_type": "stream",
     "text": [
      "Hello World\n",
      "Hello Tejaswini\n"
     ]
    }
   ],
   "source": [
    "String str=\"Hello World\";\n",
    "String str1=str.replace(\" World\", \" Tejaswini\");\n",
    "System.out.println(str);\n",
    "System.out.println(str1);"
   ]
  },
  {
   "cell_type": "markdown",
   "id": "468dacf1-8e43-4502-be4e-6bdc0d5445e3",
   "metadata": {},
   "source": [
    "### substring\n",
    "* returns a string that is substring of this string. the substring begins at the specified begin index and extends to the char at end index.\n",
    "* if end index is not given, it is taken as full string length "
   ]
  },
  {
   "cell_type": "code",
   "execution_count": 23,
   "id": "5ec94ced-8c34-43e8-ac3a-4be362db613e",
   "metadata": {},
   "outputs": [
    {
     "name": "stdout",
     "output_type": "stream",
     "text": [
      "Programming\n",
      "love\n"
     ]
    }
   ],
   "source": [
    "String str=\"I love Programming\";\n",
    "// start at index 7 and extend till the end\n",
    "String sub=str.substring(7);\n",
    "System.out.println(sub);\n",
    "//  sart at index 2 and extend till index <6\n",
    "String sub2=str.substring(2,6);\n",
    "System.out.println(sub2);"
   ]
  },
  {
   "cell_type": "markdown",
   "id": "0df4c407-ada8-4390-a5fa-053fc8d6a190",
   "metadata": {},
   "source": [
    "### String concatination\n",
    "* concatination is a process of appending 1 string to the end of another string\n",
    "* java strings can be added by using + operator\n",
    "* whn a string is concatenated with non primitive types, the toString() on that object is called automatically"
   ]
  },
  {
   "cell_type": "code",
   "execution_count": 26,
   "id": "593cc35c-d955-4ca1-939f-8793ce43c0df",
   "metadata": {},
   "outputs": [
    {
     "name": "stdout",
     "output_type": "stream",
     "text": [
      "Hello  World\n",
      "Hello 5\n"
     ]
    }
   ],
   "source": [
    "String str=\"Hello \";\n",
    "String str1=\" World\";\n",
    "String str2=str+str1;\n",
    "System.out.println(str2);\n",
    "int x=5;\n",
    "System.out.println(str+x);"
   ]
  },
  {
   "cell_type": "markdown",
   "id": "a4f13e35-6836-4942-92fc-2a55ac8415f4",
   "metadata": {},
   "source": [
    "## Reverse of a string"
   ]
  },
  {
   "cell_type": "code",
   "execution_count": 5,
   "id": "f6d06f1c-9821-48eb-826c-c0674bad5d50",
   "metadata": {},
   "outputs": [
    {
     "name": "stdout",
     "output_type": "stream",
     "text": [
      " olleh\n"
     ]
    }
   ],
   "source": [
    "String str=\"hello\";\n",
    "String rev=\" \";\n",
    "for (int i=str.length()-1;i >= 0;i--){\n",
    "    rev += str.charAt(i);\n",
    "}\n",
    "System.out.println(rev);  "
   ]
  },
  {
   "cell_type": "code",
   "execution_count": 15,
   "id": "f0948e50-2ed5-48b6-b03e-45ce63e47b85",
   "metadata": {},
   "outputs": [
    {
     "name": "stdout",
     "output_type": "stream",
     "text": [
      "enter your string :\n"
     ]
    },
    {
     "name": "stdin",
     "output_type": "stream",
     "text": [
      " i love java\n"
     ]
    },
    {
     "name": "stdout",
     "output_type": "stream",
     "text": [
      "the string is :i love java\n",
      "the reversed string is:  avaj evol i\n"
     ]
    }
   ],
   "source": [
    "Scanner sc =new Scanner (System.in);\n",
    "System.out.println(\"enter your string :\");\n",
    "String str=sc.nextLine();\n",
    "System.out.println(\"the string is :\"+ str);\n",
    "String rev=\" \";\n",
    "for(int i=str.length()-1;i>=0;i--){\n",
    "    rev += str.charAt(i);\n",
    "}\n",
    "System.out.println(\"the reversed string is: \"+ rev);\n",
    "\n"
   ]
  },
  {
   "cell_type": "markdown",
   "id": "eddc0446-1fb5-4232-915d-5f69603d6728",
   "metadata": {},
   "source": [
    "## string builder\n",
    "* java string builder class is used to creat mutable string "
   ]
  },
  {
   "cell_type": "code",
   "execution_count": 22,
   "id": "2587d85b-9b8b-43a1-94e6-c7fb3d6aaaeb",
   "metadata": {},
   "outputs": [
    {
     "name": "stdout",
     "output_type": "stream",
     "text": [
      "I like reading books with a coffe\n",
      "I like reading books,In Evenings with a coffe\n",
      "I love reading books,In Evenings with a coffe\n",
      "I love reading books with a coffe\n",
      "I love reading books with a coffe\n"
     ]
    }
   ],
   "source": [
    "StringBuilder sb=new StringBuilder(\"I like reading books\");\n",
    "sb.append(\" with a coffe\");\n",
    "System.out.println(sb);\n",
    "sb.insert(20,\",In Evenings\");\n",
    "System.out.println(sb);\n",
    "sb.replace(2,6,\"love\");\n",
    "System.out.println(sb);\n",
    "sb.delete(20,32);\n",
    "System.out.println(sb);\n",
    "// convert sb to string \n",
    "String str=sb.toString();\n",
    "System.out.println(str);"
   ]
  },
  {
   "cell_type": "markdown",
   "id": "4d9538c8-a6ec-4738-974a-b6f1ae7712f5",
   "metadata": {},
   "source": [
    "### palindrome of a string"
   ]
  },
  {
   "cell_type": "code",
   "execution_count": 30,
   "id": "db3b824b-d0b2-4b9f-a689-ad65e20e4f47",
   "metadata": {},
   "outputs": [
    {
     "name": "stdout",
     "output_type": "stream",
     "text": [
      "malayalam\n",
      "it is a palindrime\n"
     ]
    }
   ],
   "source": [
    " // palindrome of a string\n",
    "String str=\"malayalam\";\n",
    "String rev=\"\";\n",
    "for (int i=str.length()-1;i >= 0;i--){\n",
    "    rev += str.charAt(i);\n",
    "}\n",
    "System.out.println(rev);  \n",
    "if(str.equals(rev)){\n",
    "    System.out.println(\"it is a palindrime\");\n",
    "}else{\n",
    "     System.out.println(\"it is not a palindrime\");\n",
    "}"
   ]
  },
  {
   "cell_type": "code",
   "execution_count": 32,
   "id": "76a7f3b5-821c-410b-b6f2-de7f6a8a495b",
   "metadata": {},
   "outputs": [
    {
     "name": "stdout",
     "output_type": "stream",
     "text": [
      "Enter your string :\n"
     ]
    },
    {
     "name": "stdin",
     "output_type": "stream",
     "text": [
      " malayalam\n"
     ]
    },
    {
     "name": "stdout",
     "output_type": "stream",
     "text": [
      "The string is :malayalam\n",
      "The reversed string is: malayalam\n",
      "It is a palindrime\n"
     ]
    }
   ],
   "source": [
    "// user input\n",
    "Scanner sc =new Scanner (System.in);\n",
    "System.out.println(\"Enter your string :\");\n",
    "String str=sc.nextLine();\n",
    "System.out.println(\"The string is :\"+ str);\n",
    "String rev=\"\";\n",
    "for(int i=str.length()-1;i>=0;i--){\n",
    "    rev += str.charAt(i);\n",
    "}\n",
    "System.out.println(\"The reversed string is: \"+ rev);\n",
    "if(str.equals(rev)){\n",
    "    System.out.println(\"It is a palindrime\");\n",
    "}else{\n",
    "     System.out.println(\"It is not a palindrime\");\n",
    "}\n"
   ]
  },
  {
   "cell_type": "code",
   "execution_count": 35,
   "id": "256e3555-e2f6-433e-9d08-8a0d004e75e2",
   "metadata": {},
   "outputs": [
    {
     "name": "stdin",
     "output_type": "stream",
     "text": [
      " teju\n"
     ]
    },
    {
     "name": "stdout",
     "output_type": "stream",
     "text": [
      "no\n"
     ]
    }
   ],
   "source": [
    "// using string builder\n",
    "Scanner sc=new Scanner (System.in);\n",
    "String str=sc.nextLine();\n",
    "\n",
    "StringBuilder sb=new StringBuilder(str);\n",
    "sb.reverse();\n",
    "String rev=sb.toString();\n",
    "if(str.equals(rev)){\n",
    "    System.out.println(\"yes\");\n",
    "}else{\n",
    "    System.out.println(\"no\");\n",
    "}"
   ]
  },
  {
   "cell_type": "markdown",
   "id": "470bbaf0-7e8a-49e9-9c37-87dc592795e5",
   "metadata": {},
   "source": [
    "### String and Char Arrays\n",
    "* both String and Char Arrays allow us to store and handle sequwnce of characters. but they are different in some properties"
   ]
  },
  {
   "cell_type": "code",
   "execution_count": 5,
   "id": "575d5426-a6cf-40fc-b297-d3529ee6af64",
   "metadata": {},
   "outputs": [
    {
     "name": "stdout",
     "output_type": "stream",
     "text": [
      "hello\n",
      "hello\n",
      "hello\n",
      "hello\n"
     ]
    }
   ],
   "source": [
    "String s=\"hello\";\n",
    "char[] arr={'h','e','l','l','o'};\n",
    "System.out.println(s);\n",
    "System.out.println(arr);\n",
    "\n",
    "char[] arr2=s.toCharArray();\n",
    "System.out.println(arr2);\n",
    "\n",
    "String str2=new String(arr2);\n",
    "System.out.println(str2);"
   ]
  },
  {
   "cell_type": "code",
   "execution_count": 7,
   "id": "76efde7b-5a84-4ba5-8fc7-37e00377ebe8",
   "metadata": {},
   "outputs": [
    {
     "name": "stdout",
     "output_type": "stream",
     "text": [
      "150ALER\n"
     ]
    }
   ],
   "source": [
    "char ch1 = 'S';\n",
    "\n",
    "       char ch2 = 'C';\n",
    "\n",
    "       String s = ch1 + ch2 + \"ALER\";      \n",
    "\n",
    "       System.out.println(s);"
   ]
  },
  {
   "cell_type": "code",
   "execution_count": null,
   "id": "ed27af1e-71c4-4742-af54-444989606d92",
   "metadata": {},
   "outputs": [],
   "source": []
  }
 ],
 "metadata": {
  "kernelspec": {
   "display_name": "Java",
   "language": "java",
   "name": "java"
  },
  "language_info": {
   "codemirror_mode": "java",
   "file_extension": ".jshell",
   "mimetype": "text/x-java-source",
   "name": "Java",
   "pygments_lexer": "java",
   "version": "17.0.12+7"
  }
 },
 "nbformat": 4,
 "nbformat_minor": 5
}
